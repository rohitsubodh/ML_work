{
  "nbformat": 4,
  "nbformat_minor": 0,
  "metadata": {
    "colab": {
      "name": "!D GAN_complete.ipynb",
      "provenance": [],
      "collapsed_sections": []
    },
    "kernelspec": {
      "name": "python3",
      "display_name": "Python 3"
    },
    "language_info": {
      "name": "python"
    }
  },
  "cells": [
    {
      "cell_type": "code",
      "metadata": {
        "id": "ai3iNwQ4rEMa"
      },
      "source": [
        "from numpy import hstack\n",
        "from numpy import zeros\n",
        "from numpy import ones\n",
        "from numpy.random import rand, randn\n",
        "from keras.models import Sequential\n",
        "from keras.layers import Dense\n",
        "from matplotlib import pyplot"
      ],
      "execution_count": null,
      "outputs": []
    },
    {
      "cell_type": "code",
      "metadata": {
        "id": "gYEYCv7Sr7FP"
      },
      "source": [
        "def def_dis(n_inputs=2):\n",
        "  model=Sequential()\n",
        "  model.add(Dense(25,activation='relu',kernel_initializer='he_uniform',input_dim=n_inputs))\n",
        "  model.add(Dense(1,activation='sigmoid'))\n",
        "  model.compile(loss='binary_crossentropy',optimizer='adam',metrics=['accuracy'])\n",
        "  return model"
      ],
      "execution_count": null,
      "outputs": []
    },
    {
      "cell_type": "code",
      "metadata": {
        "id": "5nGg0TTGs3-a"
      },
      "source": [
        "def def_gen(latent_dim,n_outputs=2):\n",
        "  model=Sequential()\n",
        "  model.add(Dense(15,activation='relu',kernel_initializer='he_uniform',input_dim=latent_dim))\n",
        "  model.add(Dense(n_outputs,activation='linear'))\n",
        "  return model"
      ],
      "execution_count": null,
      "outputs": []
    },
    {
      "cell_type": "code",
      "metadata": {
        "id": "H4CinVnStgS5"
      },
      "source": [
        "def def_gan(generator,discriminator):\n",
        "  discriminator.trainable=False\n",
        "  model=Sequential()\n",
        "  model.add(generator)\n",
        "  model.add(discriminator)\n",
        "  model.compile(loss='binary_crossentropy',optimizer='adam')\n",
        "  return model"
      ],
      "execution_count": null,
      "outputs": []
    },
    {
      "cell_type": "code",
      "metadata": {
        "id": "GU-a4dQNujXp"
      },
      "source": [
        "def gen_real_sample(n):\n",
        "  X1 = rand(n) - 0.5\n",
        "\n",
        "  X2 = X1 * X1\n",
        "# stack arrays\n",
        "  X1 = X1.reshape(n, 1)\n",
        "  X2 = X2.reshape(n, 1)\n",
        "  X = hstack((X1, X2))\n",
        "# generate class labels\n",
        "  y = ones((n, 1))\n",
        "  return X, y \n",
        "def gen_latent_points(latent_dim,n):\n",
        "   x_input = randn(latent_dim * n)\n",
        "# reshape into a batch of inputs for the network\n",
        "   x_input = x_input.reshape(n, latent_dim)\n",
        "   return x_input\n",
        "def gen_fake_sample(generator,latent_dim,n):\n",
        "  x_in=  gen_latent_points(latent_dim,n)\n",
        "  x=generator.predict(x_in)\n",
        "  y=zeros((n,1))\n",
        "  return x,y"
      ],
      "execution_count": null,
      "outputs": []
    },
    {
      "cell_type": "code",
      "metadata": {
        "id": "E9jBPzuwuzdf"
      },
      "source": [
        "def summarize_performance(epoch, generator, discriminator, latent_dim, n=100):\n",
        "       x_re,y_re=gen_real_sample(n)\n",
        "       _,acc_real=discriminator.evaluate(x_re,y_re,verbose=0)\n",
        "       x_fake, y_fake = gen_fake_sample(generator, latent_dim, n)\n",
        "# evaluate discriminator on fake examples\n",
        "       _, acc_fake = discriminator.evaluate(x_fake, y_fake, verbose=0) \n",
        "       print(epoch,acc_real,acc_fake)\n",
        "       pyplot.scatter(x_re[:,0],x_re[:,1],color='red')\n",
        "       pyplot.scatter(x_fake[:,0],x_fake[:,1],color='blue')\n",
        "       filename='generated_plot_e%03d.png'%(epoch+1)\n",
        "       pyplot.savefig(filename)\n",
        "       pyplot.close()"
      ],
      "execution_count": null,
      "outputs": []
    },
    {
      "cell_type": "code",
      "metadata": {
        "colab": {
          "base_uri": "https://localhost:8080/"
        },
        "id": "R8bnL4WExJAi",
        "outputId": "1a5d2bb3-3f13-4e49-a5b2-ebc3ccb1f4f1"
      },
      "source": [
        "# train the generator and discriminator\n",
        "def train(g_model, d_model, gan_model, latent_dim, n_epochs=10000, n_batch=128,\n",
        "n_eval=2000):\n",
        "# determine half the size of one batch, for updating the discriminator\n",
        "     half_batch = int(n_batch / 2)\n",
        "     for i in range(n_epochs):\n",
        "       x_real, y_real = gen_real_sample(half_batch)\n",
        "       x_fake, y_fake = gen_fake_sample(g_model, latent_dim, half_batch)\n",
        "       d_model.train_on_batch(x_real,y_real)\n",
        "       d_model.train_on_batch(x_fake,y_fake)\n",
        "\n",
        "       x_gan=gen_latent_points(latent_dim,n_batch)\n",
        "       y_gan=ones((n_batch,1))\n",
        "\n",
        "       gan_model.train_on_batch(x_gan,y_gan)\n",
        "       if (i+1) % n_eval == 0:\n",
        "           summarize_performance(i, g_model, d_model, latent_dim)\n",
        "\n",
        "latent_dim = 5\n",
        "# create the discriminator\n",
        "discriminator = def_dis()\n",
        "# create the generator\n",
        "generator = def_gen(latent_dim)\n",
        "# create the gan\n",
        "gan_model = def_gan(generator, discriminator)\n",
        "# train model\n",
        "train(generator, discriminator, gan_model, latent_dim)"
      ],
      "execution_count": null,
      "outputs": [
        {
          "output_type": "stream",
          "text": [
            "1999 0.4000000059604645 0.3700000047683716\n",
            "3999 0.0 1.0\n",
            "5999 0.6399999856948853 0.5299999713897705\n",
            "7999 0.5099999904632568 0.5299999713897705\n",
            "9999 0.41999998688697815 0.5600000023841858\n"
          ],
          "name": "stdout"
        }
      ]
    },
    {
      "cell_type": "code",
      "metadata": {
        "id": "SP-Daa3K05Jw"
      },
      "source": [
        ""
      ],
      "execution_count": null,
      "outputs": []
    }
  ]
}